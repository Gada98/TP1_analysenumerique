{
 "cells": [
  {
   "cell_type": "code",
   "execution_count": 2,
   "id": "b8611434",
   "metadata": {},
   "outputs": [],
   "source": [
    "def p(x):\n",
    "   \"\"\"définir la fonction polynome x^2+2x+1\"\"\"\n",
    "   return x**2+2*x+1"
   ]
  },
  {
   "cell_type": "code",
   "execution_count": null,
   "id": "f9e24109",
   "metadata": {},
   "outputs": [],
   "source": []
  },
  {
   "cell_type": "code",
   "execution_count": 3,
   "id": "3b7c0bff",
   "metadata": {},
   "outputs": [],
   "source": [
    "def prod(x,y):\n",
    "    '''cette fonction effectue le produit de deux nombre'''\n",
    "    return x*y #cette ligne returne le produit de x et y"
   ]
  },
  {
   "cell_type": "code",
   "execution_count": 4,
   "id": "c1f26d69",
   "metadata": {},
   "outputs": [
    {
     "data": {
      "text/plain": [
       "30"
      ]
     },
     "execution_count": 4,
     "metadata": {},
     "output_type": "execute_result"
    }
   ],
   "source": [
    "prod(5,6)"
   ]
  },
  {
   "cell_type": "code",
   "execution_count": 5,
   "id": "c79940cb",
   "metadata": {},
   "outputs": [],
   "source": [
    "somme=lambda x,y,z: x+y+z"
   ]
  },
  {
   "cell_type": "code",
   "execution_count": 6,
   "id": "42d40a92",
   "metadata": {},
   "outputs": [
    {
     "name": "stdout",
     "output_type": "stream",
     "text": [
      "27\n",
      "0\n"
     ]
    }
   ],
   "source": [
    "print(somme(12,12,3))\n",
    "print(somme(0,0,0))"
   ]
  },
  {
   "cell_type": "code",
   "execution_count": 7,
   "id": "ad094822",
   "metadata": {},
   "outputs": [
    {
     "name": "stdout",
     "output_type": "stream",
     "text": [
      "12\n",
      "hello world\n"
     ]
    }
   ],
   "source": [
    "print(somme(1,1,10))\n",
    "print('hello world')"
   ]
  },
  {
   "cell_type": "code",
   "execution_count": 8,
   "id": "3c316683",
   "metadata": {},
   "outputs": [],
   "source": [
    "x='chaine'\n",
    "x1='azert'\n",
    "y=12\n",
    "z=12.3\n",
    "t=1+2j"
   ]
  },
  {
   "cell_type": "code",
   "execution_count": 9,
   "id": "019daa42",
   "metadata": {},
   "outputs": [],
   "source": [
    "T=[11,21,312,421,511,1,2,3,4,5,6,11,21,312,421,511,1,2,3,4]\n",
    "#semi ouvert à droite\n",
    "M=[1,2,3]\n",
    "L=[0,1]\n",
    "M[1]=-1"
   ]
  },
  {
   "cell_type": "code",
   "execution_count": 10,
   "id": "39d90ded",
   "metadata": {},
   "outputs": [
    {
     "data": {
      "text/plain": [
       "[4, 3, 2, 1, 511, 421, 312, 21, 11, 6, 5, 4, 3, 2, 1, 511, 421, 312, 21, 11]"
      ]
     },
     "execution_count": 10,
     "metadata": {},
     "output_type": "execute_result"
    }
   ],
   "source": [
    "T[::-1]"
   ]
  },
  {
   "cell_type": "code",
   "execution_count": 11,
   "id": "8f3fb373",
   "metadata": {},
   "outputs": [
    {
     "name": "stdout",
     "output_type": "stream",
     "text": [
      "hello world\n",
      "????????\n",
      "hello world\n",
      "????????\n",
      "hello world\n",
      "????????\n",
      "hello world\n",
      "????????\n",
      "hello world\n",
      "????????\n",
      "hello world\n",
      "????????\n",
      "hello world\n",
      "????????\n",
      "hello world\n",
      "????????\n",
      "hello world\n",
      "????????\n",
      "hello world\n",
      "????????\n"
     ]
    }
   ],
   "source": [
    "for i in range(10):\n",
    "    print('hello world')\n",
    "    print('????????')  "
   ]
  },
  {
   "cell_type": "code",
   "execution_count": 12,
   "id": "44ac677c",
   "metadata": {},
   "outputs": [
    {
     "name": "stdout",
     "output_type": "stream",
     "text": [
      "hello world\n",
      "hello world\n",
      "hello world\n",
      "hello world\n",
      "hello world\n",
      "hello world\n",
      "hello world\n",
      "hello world\n",
      "hello world\n",
      "hello world\n",
      "????????\n"
     ]
    }
   ],
   "source": [
    "for i in range(10):\n",
    "    print('hello world')\n",
    "print('????????') "
   ]
  },
  {
   "cell_type": "code",
   "execution_count": 13,
   "id": "90bb5a4b",
   "metadata": {},
   "outputs": [
    {
     "data": {
      "text/plain": [
       "['a',\n",
       " 'b',\n",
       " 'c',\n",
       " 'd',\n",
       " 'e',\n",
       " 'f',\n",
       " 'g',\n",
       " 'h',\n",
       " 'i',\n",
       " 'j',\n",
       " 'k',\n",
       " 'l',\n",
       " 'm',\n",
       " 'n',\n",
       " 'o',\n",
       " 'p',\n",
       " 'q',\n",
       " 'r',\n",
       " 's',\n",
       " 't',\n",
       " 'u',\n",
       " 'v',\n",
       " 'w',\n",
       " 'x',\n",
       " 'y',\n",
       " 'z']"
      ]
     },
     "execution_count": 13,
     "metadata": {},
     "output_type": "execute_result"
    }
   ],
   "source": [
    "x=list('abcdefghijklmnopqrstuvwxyz')\n",
    "x"
   ]
  },
  {
   "cell_type": "code",
   "execution_count": 14,
   "id": "6cd54c02",
   "metadata": {},
   "outputs": [
    {
     "name": "stdout",
     "output_type": "stream",
     "text": [
      "ap\n",
      "ao\n",
      "ai\n",
      "bp\n",
      "bo\n",
      "bi\n",
      "cp\n",
      "co\n",
      "ci\n",
      "dp\n",
      "do\n",
      "di\n",
      "ep\n",
      "eo\n",
      "ei\n"
     ]
    }
   ],
   "source": [
    "x='abcde'\n",
    "y='poi'\n",
    "for i in x:\n",
    "    for j in y:\n",
    "        print(i+j)"
   ]
  },
  {
   "cell_type": "code",
   "execution_count": 15,
   "id": "c6f860f2",
   "metadata": {},
   "outputs": [
    {
     "name": "stdout",
     "output_type": "stream",
     "text": [
      "2\n",
      "------\n",
      "3\n",
      "------\n",
      "4\n",
      "------\n",
      "3\n",
      "------\n",
      "4\n",
      "------\n",
      "5\n",
      "------\n",
      "4\n",
      "------\n",
      "5\n",
      "------\n",
      "6\n",
      "------\n"
     ]
    }
   ],
   "source": [
    "for x in [1,2,3]:\n",
    "    for y in [1,2,3]:\n",
    "        print(x+y)\n",
    "        print('------')"
   ]
  },
  {
   "cell_type": "code",
   "execution_count": 109,
   "id": "b9da0f8b",
   "metadata": {},
   "outputs": [],
   "source": [
    "def p1(x):\n",
    "    '''p(x)=(x-1)'''\n",
    "    return (x-1)**6 # ** puissance\n",
    "def p2(x):\n",
    "    '''version développer de p(x)'''\n",
    "    return x**6 - 6*x**5 + 15*x**4 - 20*x**3 + 15*x**2 - 6*x + 1"
   ]
  },
  {
   "cell_type": "code",
   "execution_count": 110,
   "id": "1d0777af",
   "metadata": {},
   "outputs": [
    {
     "data": {
      "text/plain": [
       "<function __main__.p1(x)>"
      ]
     },
     "execution_count": 110,
     "metadata": {},
     "output_type": "execute_result"
    }
   ],
   "source": [
    "p1"
   ]
  },
  {
   "cell_type": "code",
   "execution_count": 18,
   "id": "312eee0f",
   "metadata": {},
   "outputs": [
    {
     "name": "stdout",
     "output_type": "stream",
     "text": [
      "p1(0.998)=6.400000000000034e-17\n",
      "p2(0.998)=1.7763568394002505e-15\n"
     ]
    }
   ],
   "source": [
    "# le calcul de p1(0.998)\n",
    "print('p1({})={}'.format(0.998,p1(0.998)))\n",
    "# le calcul de p2(0.998)\n",
    "print('p2({})={}'.format(0.998,p2(0.998)))"
   ]
  },
  {
   "cell_type": "code",
   "execution_count": 19,
   "id": "af8b676e",
   "metadata": {},
   "outputs": [
    {
     "data": {
      "text/plain": [
       "64"
      ]
     },
     "execution_count": 19,
     "metadata": {},
     "output_type": "execute_result"
    }
   ],
   "source": [
    "p2(3)"
   ]
  },
  {
   "cell_type": "markdown",
   "id": "ed29f357",
   "metadata": {},
   "source": [
    "# code python de la fonction horner"
   ]
  },
  {
   "cell_type": "code",
   "execution_count": 143,
   "id": "7b038ce6",
   "metadata": {},
   "outputs": [],
   "source": [
    "def horner(a,x):\n",
    "    '''function x=horner(a,x)'''\n",
    "    n = length(a)\n",
    "    result = a(1)\n",
    "    for j in 2/n:\n",
    "        result = result*x + a(j)\n",
    "        return x == result\n",
    "       "
   ]
  },
  {
   "cell_type": "code",
   "execution_count": 339,
   "id": "87c8e881",
   "metadata": {},
   "outputs": [],
   "source": [
    "import numpy as np\n",
    "p1=lambda x: (x-1)**6\n",
    "p2=lambda x: x**6 - 6*x**5 + 15*x**4 - 20*x**3 + 15*x**2 - 6*x + 1"
   ]
  },
  {
   "cell_type": "code",
   "execution_count": 340,
   "id": "f3d35dd3",
   "metadata": {},
   "outputs": [
    {
     "name": "stdout",
     "output_type": "stream",
     "text": [
      "[1, -6, 15, -20, 15, -6, 1]\n",
      "---------p(i)---------\n",
      "6.400000000000034e-17\n",
      "6.400000000000034e-17\n",
      "0.994014980014994\n",
      "---------f(i)---------\n",
      "-0.6293840636965812\n",
      "-0.634855582442279\n",
      "0.998000499833375\n",
      "---------horner---------\n",
      "0.998\n",
      "1.002\n",
      "0.001\n"
     ]
    }
   ],
   "source": [
    "T=[1, -6, 15, -20, 15, -6, 1]\n",
    "print(T)\n",
    "\n",
    "def horner(a,x):\n",
    "        return x == result\n",
    "print('---------p(i)---------') \n",
    "for i in [0.998,1.002,0.001]:\n",
    "        print(p1(i))\n",
    "print('---------f(i)---------')\n",
    "for i in [0.998,1.002,0.001]:\n",
    "         print(f(i)) \n",
    "print('---------horner---------')\n",
    "for i in [0.998,1.002,0.001]:\n",
    "         print(i)"
   ]
  },
  {
   "cell_type": "code",
   "execution_count": 345,
   "id": "372cad48",
   "metadata": {},
   "outputs": [
    {
     "ename": "TypeError",
     "evalue": "unsupported operand type(s) for -: 'list' and 'int'",
     "output_type": "error",
     "traceback": [
      "\u001b[1;31m---------------------------------------------------------------------------\u001b[0m",
      "\u001b[1;31mTypeError\u001b[0m                                 Traceback (most recent call last)",
      "\u001b[1;32m<ipython-input-345-a66dec6259d1>\u001b[0m in \u001b[0;36m<module>\u001b[1;34m\u001b[0m\n\u001b[0;32m      5\u001b[0m \u001b[1;32mdef\u001b[0m \u001b[0mp2\u001b[0m\u001b[1;33m(\u001b[0m\u001b[0mx\u001b[0m\u001b[1;33m)\u001b[0m\u001b[1;33m:\u001b[0m\u001b[1;33m\u001b[0m\u001b[1;33m\u001b[0m\u001b[0m\n\u001b[0;32m      6\u001b[0m     \u001b[1;32mreturn\u001b[0m \u001b[0mx\u001b[0m\u001b[1;33m**\u001b[0m\u001b[1;36m6\u001b[0m \u001b[1;33m-\u001b[0m \u001b[1;36m6\u001b[0m\u001b[1;33m*\u001b[0m\u001b[0mx\u001b[0m\u001b[1;33m**\u001b[0m\u001b[1;36m5\u001b[0m \u001b[1;33m+\u001b[0m \u001b[1;36m15\u001b[0m\u001b[1;33m*\u001b[0m\u001b[0mx\u001b[0m\u001b[1;33m**\u001b[0m\u001b[1;36m4\u001b[0m \u001b[1;33m-\u001b[0m \u001b[1;36m20\u001b[0m\u001b[1;33m*\u001b[0m\u001b[0mx\u001b[0m\u001b[1;33m**\u001b[0m\u001b[1;36m3\u001b[0m \u001b[1;33m+\u001b[0m \u001b[1;36m15\u001b[0m\u001b[1;33m*\u001b[0m\u001b[0mx\u001b[0m\u001b[1;33m**\u001b[0m\u001b[1;36m2\u001b[0m \u001b[1;33m-\u001b[0m \u001b[1;36m6\u001b[0m\u001b[1;33m*\u001b[0m\u001b[0mx\u001b[0m \u001b[1;33m+\u001b[0m \u001b[1;36m1\u001b[0m\u001b[1;33m\u001b[0m\u001b[1;33m\u001b[0m\u001b[0m\n\u001b[1;32m----> 7\u001b[1;33m \u001b[0my1\u001b[0m \u001b[1;33m=\u001b[0m \u001b[0mp1\u001b[0m\u001b[1;33m(\u001b[0m\u001b[0mx\u001b[0m\u001b[1;33m)\u001b[0m\u001b[1;33m\u001b[0m\u001b[1;33m\u001b[0m\u001b[0m\n\u001b[0m\u001b[0;32m      8\u001b[0m \u001b[0my2\u001b[0m \u001b[1;33m=\u001b[0m \u001b[0mp2\u001b[0m\u001b[1;33m(\u001b[0m\u001b[0mx\u001b[0m\u001b[1;33m)\u001b[0m\u001b[1;33m\u001b[0m\u001b[1;33m\u001b[0m\u001b[0m\n\u001b[0;32m      9\u001b[0m \u001b[0mx\u001b[0m\u001b[1;33m=\u001b[0m\u001b[1;33m[\u001b[0m\u001b[1;36m0.998\u001b[0m\u001b[1;33m,\u001b[0m\u001b[1;36m1.002\u001b[0m\u001b[1;33m,\u001b[0m\u001b[1;36m0.001\u001b[0m\u001b[1;33m]\u001b[0m\u001b[1;33m\u001b[0m\u001b[1;33m\u001b[0m\u001b[0m\n",
      "\u001b[1;32m<ipython-input-345-a66dec6259d1>\u001b[0m in \u001b[0;36mp1\u001b[1;34m(x)\u001b[0m\n\u001b[0;32m      2\u001b[0m \u001b[1;32mimport\u001b[0m \u001b[0mmatplotlib\u001b[0m\u001b[1;33m.\u001b[0m\u001b[0mpyplot\u001b[0m \u001b[1;32mas\u001b[0m \u001b[0mplt\u001b[0m\u001b[1;33m\u001b[0m\u001b[1;33m\u001b[0m\u001b[0m\n\u001b[0;32m      3\u001b[0m \u001b[1;32mdef\u001b[0m \u001b[0mp1\u001b[0m\u001b[1;33m(\u001b[0m\u001b[0mx\u001b[0m\u001b[1;33m)\u001b[0m\u001b[1;33m:\u001b[0m\u001b[1;33m\u001b[0m\u001b[1;33m\u001b[0m\u001b[0m\n\u001b[1;32m----> 4\u001b[1;33m     \u001b[1;32mreturn\u001b[0m \u001b[1;33m(\u001b[0m\u001b[0mx\u001b[0m\u001b[1;33m-\u001b[0m\u001b[1;36m1\u001b[0m\u001b[1;33m)\u001b[0m\u001b[1;33m**\u001b[0m\u001b[1;36m6\u001b[0m\u001b[1;33m\u001b[0m\u001b[1;33m\u001b[0m\u001b[0m\n\u001b[0m\u001b[0;32m      5\u001b[0m \u001b[1;32mdef\u001b[0m \u001b[0mp2\u001b[0m\u001b[1;33m(\u001b[0m\u001b[0mx\u001b[0m\u001b[1;33m)\u001b[0m\u001b[1;33m:\u001b[0m\u001b[1;33m\u001b[0m\u001b[1;33m\u001b[0m\u001b[0m\n\u001b[0;32m      6\u001b[0m     \u001b[1;32mreturn\u001b[0m \u001b[0mx\u001b[0m\u001b[1;33m**\u001b[0m\u001b[1;36m6\u001b[0m \u001b[1;33m-\u001b[0m \u001b[1;36m6\u001b[0m\u001b[1;33m*\u001b[0m\u001b[0mx\u001b[0m\u001b[1;33m**\u001b[0m\u001b[1;36m5\u001b[0m \u001b[1;33m+\u001b[0m \u001b[1;36m15\u001b[0m\u001b[1;33m*\u001b[0m\u001b[0mx\u001b[0m\u001b[1;33m**\u001b[0m\u001b[1;36m4\u001b[0m \u001b[1;33m-\u001b[0m \u001b[1;36m20\u001b[0m\u001b[1;33m*\u001b[0m\u001b[0mx\u001b[0m\u001b[1;33m**\u001b[0m\u001b[1;36m3\u001b[0m \u001b[1;33m+\u001b[0m \u001b[1;36m15\u001b[0m\u001b[1;33m*\u001b[0m\u001b[0mx\u001b[0m\u001b[1;33m**\u001b[0m\u001b[1;36m2\u001b[0m \u001b[1;33m-\u001b[0m \u001b[1;36m6\u001b[0m\u001b[1;33m*\u001b[0m\u001b[0mx\u001b[0m \u001b[1;33m+\u001b[0m \u001b[1;36m1\u001b[0m\u001b[1;33m\u001b[0m\u001b[1;33m\u001b[0m\u001b[0m\n",
      "\u001b[1;31mTypeError\u001b[0m: unsupported operand type(s) for -: 'list' and 'int'"
     ]
    }
   ],
   "source": [
    "import numpy as np\n",
    "import matplotlib.pyplot as plt\n",
    "def p1(x):\n",
    "    return (x-1)**6 \n",
    "def p2(x):\n",
    "    return x**6 - 6*x**5 + 15*x**4 - 20*x**3 + 15*x**2 - 6*x + 1\n",
    "y1 = p1(x)\n",
    "y2 = p2(x)\n",
    "x=[0.998,1.002,0.001]\n",
    "plt.plot(x,y1,'r')\n",
    "plt.plot(x,y2,'b')\n",
    "plt.title (\"solution dans [0.998:0.0001:1.002] \")\n",
    "plt.xlabel (\"x\")\n",
    "plt.ylabel (\"y\")\n",
    "plt.grid ()"
   ]
  },
  {
   "cell_type": "markdown",
   "id": "fb7579f8",
   "metadata": {},
   "source": [
    "# Exercice 2:"
   ]
  },
  {
   "cell_type": "code",
   "execution_count": 61,
   "id": "04987ab9",
   "metadata": {},
   "outputs": [
    {
     "data": {
      "text/plain": [
       "[<matplotlib.lines.Line2D at 0x2176524c820>]"
      ]
     },
     "execution_count": 61,
     "metadata": {},
     "output_type": "execute_result"
    },
    {
     "data": {
      "image/png": "[encoded data removed]",
      "text/plain": [
       "<Figure size 432x288 with 1 Axes>"
      ]
     },
     "metadata": {
      "needs_background": "light"
     },
     "output_type": "display_data"
    }
   ],
   "source": [
    "import matplotlib.pyplot as plt\n",
    "from numpy import linspace\n",
    "f=lambda x: x**3+x**2-3*x-3\n",
    "T=linspace(-2,2,41)\n",
    "plt.title(\"solution dans [-2:2]\");\n",
    "plt.xlabel(\"x\")\n",
    "plt.ylabel(\"g(x)\")\n",
    "plt.grid(True)\n",
    "plt.plot(T,f(T))"
   ]
  },
  {
   "cell_type": "markdown",
   "id": "e62f32c0",
   "metadata": {},
   "source": [
    "# D'aprés le graphe de f il existe 3 solutions:"
   ]
  },
  {
   "cell_type": "code",
   "execution_count": 324,
   "id": "b0dd7b61",
   "metadata": {},
   "outputs": [],
   "source": [
    "def dicho(a,b,f,n):\n",
    "    m=(a+b)/2\n",
    "    err=abs(b-a)\n",
    "    while err>n:\n",
    "        if f(m)==0:\n",
    "            break\n",
    "        if f(a)*f(m)<0:\n",
    "             b=m\n",
    "        else:\n",
    "            a=m\n",
    "        m=(a+b)/2\n",
    "        err=abs(b-a)\n",
    "    return m"
   ]
  },
  {
   "cell_type": "code",
   "execution_count": 325,
   "id": "8381bc64",
   "metadata": {},
   "outputs": [
    {
     "name": "stdout",
     "output_type": "stream",
     "text": [
      "-1.75\n"
     ]
    }
   ],
   "source": [
    "x3=dicho(-2, -1.5, f, 10)\n",
    "#x10=dicho(-2,-1.5, f, 10)\n",
    "#x20=dicho(-2,-1.5, f, 20)\n",
    "#print(x3,x10,x20)\n",
    "print(x3)"
   ]
  },
  {
   "cell_type": "code",
   "execution_count": 326,
   "id": "9ad58f28",
   "metadata": {},
   "outputs": [
    {
     "name": "stdout",
     "output_type": "stream",
     "text": [
      "f(x10)=7.504602676005731,f(x20)=7.504602676005731\n"
     ]
    }
   ],
   "source": [
    "print('f(x10)={},f(x20)={}'.format(f(x10),f(x20)))"
   ]
  },
  {
   "cell_type": "code",
   "execution_count": 318,
   "id": "d42f84ff",
   "metadata": {},
   "outputs": [],
   "source": [
    "def dichow(a,b,f,eps):\n",
    "    \"\"\"version tant que qui renvoila solution avec le nombre d'itération\"\"\"\n",
    "    g, d = min(a, b), max(a, b)\n",
    "    while d-g>eps:\n",
    "        m = (g+d)/2\n",
    "        if f(m) == 0:\n",
    "            d = m\n",
    "        else:\n",
    "                g = m\n",
    "                return (g+d)/2\n",
    "    pass"
   ]
  },
  {
   "cell_type": "code",
   "execution_count": 101,
   "id": "a0beff60",
   "metadata": {},
   "outputs": [
    {
     "data": {
      "text/plain": [
       "-1.625"
      ]
     },
     "execution_count": 101,
     "metadata": {},
     "output_type": "execute_result"
    }
   ],
   "source": [
    "dichow(-2,-1.5,f,0.0001)"
   ]
  },
  {
   "cell_type": "code",
   "execution_count": 102,
   "id": "3c225311",
   "metadata": {},
   "outputs": [
    {
     "data": {
      "text/plain": [
       "3.0"
      ]
     },
     "execution_count": 102,
     "metadata": {},
     "output_type": "execute_result"
    }
   ],
   "source": [
    "import numpy as np\n",
    "np.floor(2.3)\n",
    "np.ceil(2.3)"
   ]
  },
  {
   "cell_type": "code",
   "execution_count": 371,
   "id": "34fbdccf",
   "metadata": {},
   "outputs": [
    {
     "data": {
      "text/plain": [
       "-0.75"
      ]
     },
     "execution_count": 371,
     "metadata": {},
     "output_type": "execute_result"
    }
   ],
   "source": [
    "import numpy as np\n",
    "a=-1.5\n",
    "b=-0.5\n",
    "p=8 #précision à 10^-8 prés\n",
    "dichow(a,b,f,10**(-p))\n",
    "#à 10^-8"
   ]
  },
  {
   "cell_type": "code",
   "execution_count": 370,
   "id": "7c4b6373",
   "metadata": {},
   "outputs": [
    {
     "name": "stdout",
     "output_type": "stream",
     "text": [
      "-1.625\n",
      "-0.75\n",
      "1.875\n",
      "-1.625\n",
      "-0.75\n",
      "1.875\n"
     ]
    }
   ],
   "source": [
    "interval=[[-2,-1.5],[-1.5,-0.5],[1.5,2]]\n",
    "for u in interval:\n",
    "    print(dichow(u[0],u[1],f,10**(-3)))\n",
    "##########################################\n",
    "print(dichow(-2,-1.5,f,10**(-3)))\n",
    "print(dichow(-1.5,-0.5,f,10**(-3)))\n",
    "print(dichow(1.5,2,f,10**(-3)))"
   ]
  },
  {
   "cell_type": "code",
   "execution_count": 390,
   "id": "ad345078",
   "metadata": {},
   "outputs": [
    {
     "data": {
      "text/plain": [
       "16.0"
      ]
     },
     "execution_count": 390,
     "metadata": {},
     "output_type": "execute_result"
    }
   ],
   "source": [
    "a=-2\n",
    "b=-1.5\n",
    "ND(5)"
   ]
  },
  {
   "cell_type": "code",
   "execution_count": 349,
   "id": "8960f41c",
   "metadata": {},
   "outputs": [
    {
     "data": {
      "text/plain": [
       "-1.625"
      ]
     },
     "execution_count": 349,
     "metadata": {},
     "output_type": "execute_result"
    }
   ],
   "source": [
    "#alpha 1\n",
    "dichow(-2,-1.5,f,10**(-5))\n",
    "#à 10^-8"
   ]
  },
  {
   "cell_type": "code",
   "execution_count": 350,
   "id": "df1841ce",
   "metadata": {},
   "outputs": [
    {
     "data": {
      "text/plain": [
       "-0.75"
      ]
     },
     "execution_count": 350,
     "metadata": {},
     "output_type": "execute_result"
    }
   ],
   "source": [
    "#alpha 2\n",
    "dichow(-1.5,-0.5,f,10**(-5))\n",
    "#à 10^-8"
   ]
  },
  {
   "cell_type": "code",
   "execution_count": 75,
   "id": "0cfe4bb5",
   "metadata": {},
   "outputs": [
    {
     "data": {
      "image/png": "[encoded data removed]",
      "text/plain": [
       "<Figure size 432x288 with 4 Axes>"
      ]
     },
     "metadata": {
      "needs_background": "light"
     },
     "output_type": "display_data"
    }
   ],
   "source": [
    "#import mpld3\n",
    "#mpld3.enable_notebook()\n",
    "import numpy as np\n",
    "import matplotlib.pyplot as plt\n",
    "f=lambda x:x**3+x**2-3*x-3\n",
    "t=np.linspace(1.7,1.75,100)\n",
    "plt.subplot(2,2,1)\n",
    "plt.plot(t,f(t),'r')\n",
    "plt.grid(True)\n",
    "###########################################\n",
    "t=np.linspace(1.2,1.4,100)\n",
    "plt.subplot(2,2,2)\n",
    "plt.plot(t,f(t),'r')\n",
    "plt.grid(True)\n",
    "##########################################\n",
    "t=np.linspace(1.35,1.4,100)\n",
    "plt.subplot(2,2,3)\n",
    "plt.plot(t,f(t),'r')\n",
    "plt.grid(True)\n",
    "#########################################\n",
    "t=np.linspace(1.365,1.367,100)\n",
    "plt.subplot(2,2,4)\n",
    "plt.plot(t,f(t),'r')\n",
    "plt.grid(True)"
   ]
  },
  {
   "cell_type": "code",
   "execution_count": 351,
   "id": "a7aa2e02",
   "metadata": {},
   "outputs": [
    {
     "data": {
      "text/plain": [
       "-0.75"
      ]
     },
     "execution_count": 351,
     "metadata": {},
     "output_type": "execute_result"
    }
   ],
   "source": [
    "dichow(-1.5,-0.5,f,0.0001)"
   ]
  },
  {
   "cell_type": "code",
   "execution_count": 352,
   "id": "ce8c2aaa",
   "metadata": {},
   "outputs": [
    {
     "data": {
      "text/plain": [
       "1.875"
      ]
     },
     "execution_count": 352,
     "metadata": {},
     "output_type": "execute_result"
    }
   ],
   "source": [
    "dichow(1.5,2,f,0.0001)"
   ]
  },
  {
   "cell_type": "markdown",
   "id": "4a62c302",
   "metadata": {},
   "source": [
    "# Exercice 3:\n",
    "\n",
    "1)"
   ]
  },
  {
   "cell_type": "code",
   "execution_count": 87,
   "id": "5d1a178e",
   "metadata": {},
   "outputs": [
    {
     "data": {
      "image/png": "[encoded data removed]",
      "text/plain": [
       "<Figure size 432x288 with 4 Axes>"
      ]
     },
     "metadata": {
      "needs_background": "light"
     },
     "output_type": "display_data"
    }
   ],
   "source": [
    "%matplotlib inline\n",
    "#import mpld3\n",
    "#mpld3.enable_notebook()\n",
    "import numpy as np\n",
    "import matplotlib.pyplot as plt\n",
    "f=lambda x:x**3+4*x**2-10\n",
    "t=np.linspace(1,2,100)\n",
    "plt.subplot(2,2,1)\n",
    "plt.plot(t,f(t),'r')\n",
    "plt.grid(True)\n",
    "###########################################\n",
    "t=np.linspace(1.2,1.4,100)\n",
    "plt.subplot(2,2,2)\n",
    "plt.plot(t,f(t),'r')\n",
    "plt.grid(True)\n",
    "##########################################\n",
    "t=np.linspace(1.35,1.4,100)\n",
    "plt.subplot(2,2,3)\n",
    "plt.plot(t,f(t),'r')\n",
    "plt.grid(True)\n",
    "#########################################\n",
    "t=np.linspace(1.365,1.367,100)\n",
    "plt.subplot(2,2,4)\n",
    "plt.plot(t,f(t),'r')\n",
    "plt.grid(True)"
   ]
  },
  {
   "cell_type": "markdown",
   "id": "82457f65",
   "metadata": {},
   "source": [
    "# 2) Justification théorique pour la fonction g1\n",
    "Calcul symbolique de la dérivée"
   ]
  },
  {
   "cell_type": "code",
   "execution_count": 88,
   "id": "0baf1715",
   "metadata": {},
   "outputs": [],
   "source": [
    "from sympy import *\n",
    "import numpy as np\n",
    "x, y, z = symbols('x y z')\n",
    "init_printing(use_unicode=True)\n",
    "g1=lambda x: 1/2*sqrt(10-x**3)"
   ]
  },
  {
   "cell_type": "code",
   "execution_count": 89,
   "id": "15ad454c",
   "metadata": {},
   "outputs": [
    {
     "data": {
      "image/png": "[encoded data removed]",
      "text/latex": [
       "$\\displaystyle -0.511744628292746$"
      ],
      "text/plain": [
       "-0.5117446282927461"
      ]
     },
     "execution_count": 89,
     "metadata": {},
     "output_type": "execute_result"
    }
   ],
   "source": [
    "dg1=lambdify(x,diff(g1(x),x,1))\n",
    "dg1(1.365)"
   ]
  },
  {
   "cell_type": "markdown",
   "id": "6470bdfb",
   "metadata": {},
   "source": [
    "# Que pouvez conclure à propos des convergences de g1"
   ]
  },
  {
   "cell_type": "raw",
   "id": "8df557bb",
   "metadata": {},
   "source": [
    "les convergences de g1 sont diverges"
   ]
  },
  {
   "cell_type": "markdown",
   "id": "aaa3e5ae",
   "metadata": {},
   "source": [
    "# Etudier théoriquement la convergence de g2 et g3"
   ]
  },
  {
   "cell_type": "code",
   "execution_count": null,
   "id": "3721275e",
   "metadata": {},
   "outputs": [],
   "source": [
    "from sympy import *\n",
    "import numpy as np\n",
    "x, y, z = symbols('x y z')\n",
    "init_printing(use_unicode=True)\n",
    "g2=lambda x: sqrt(10/(x+4))"
   ]
  },
  {
   "cell_type": "code",
   "execution_count": 92,
   "id": "383f49af",
   "metadata": {},
   "outputs": [
    {
     "data": {
      "image/png": "[encoded data removed]",
      "text/latex": [
       "$\\displaystyle -0.127237584233386$"
      ],
      "text/plain": [
       "-0.12723758423338585"
      ]
     },
     "execution_count": 92,
     "metadata": {},
     "output_type": "execute_result"
    }
   ],
   "source": [
    "dg2=lambdify(x,diff(g2(x),x,1))\n",
    "dg2(1.365)"
   ]
  },
  {
   "cell_type": "raw",
   "id": "6bb4c1fa",
   "metadata": {},
   "source": [
    "g2 est diverge "
   ]
  },
  {
   "cell_type": "code",
   "execution_count": null,
   "id": "45ed2541",
   "metadata": {},
   "outputs": [],
   "source": [
    "from sympy import *\n",
    "import numpy as np\n",
    "x, y, z = symbols('x y z')\n",
    "init_printing(use_unicode=True)\n",
    "g2=lambda x: x-x**3-4*x**2+10"
   ]
  },
  {
   "cell_type": "code",
   "execution_count": 93,
   "id": "f998514d",
   "metadata": {},
   "outputs": [
    {
     "data": {
      "image/png": "[encoded data removed]",
      "text/latex": [
       "$\\displaystyle -15.509675$"
      ],
      "text/plain": [
       "-15.509675000000001"
      ]
     },
     "execution_count": 93,
     "metadata": {},
     "output_type": "execute_result"
    }
   ],
   "source": [
    "dg3=lambdify(x,diff(g3(x),x,1))\n",
    "dg3(1.365)"
   ]
  },
  {
   "cell_type": "raw",
   "id": "08d78326",
   "metadata": {},
   "source": [
    "g3 est converge"
   ]
  },
  {
   "cell_type": "code",
   "execution_count": null,
   "id": "27bca39e",
   "metadata": {},
   "outputs": [],
   "source": [
    "import numpy as np\n",
    "f=lambda x: x**3+4*x**2-10 # la fonction f\n",
    "g1=lambda x: 1/2*sqrt(10-x**3)\n",
    "g2=lambda x: sqrt(10/(x+4))\n",
    "g3=lambda x: x-x**3-4*x**2 + 10\n",
    "niter=0\n",
    "zero=0\n",
    "erreur=1\n",
    "eps=0.001\n",
    "def [zero,erreur,niter]=pointfixe(g,x0,eps,nmax):\n",
    "    zero=x0;\n",
    "while (erreur>eps)&(niter<=nmax):\n",
    "    x=zero\n",
    "    zero=f(x)\n",
    "    erreur=abs(zero-x)\n",
    "     if erreur<eps:\n",
    "        break\n",
    "return niter    "
   ]
  },
  {
   "cell_type": "code",
   "execution_count": null,
   "id": "3b16429a",
   "metadata": {},
   "outputs": [],
   "source": [
    "[x,erreur,niter]=pointfixe(d,1.5,0.001,50)"
   ]
  },
  {
   "cell_type": "code",
   "execution_count": null,
   "id": "a2058f67",
   "metadata": {},
   "outputs": [],
   "source": [
    "[x,erreur,niter]=pointfixe(g2,1.5,0.001,50)"
   ]
  },
  {
   "cell_type": "code",
   "execution_count": null,
   "id": "1351f14c",
   "metadata": {},
   "outputs": [],
   "source": [
    "ptfixe(g3,1.5,0.0001,30)"
   ]
  },
  {
   "cell_type": "markdown",
   "id": "88db77d0",
   "metadata": {},
   "source": [
    "# Exercice 4:"
   ]
  },
  {
   "cell_type": "markdown",
   "id": "b86e8f3c",
   "metadata": {},
   "source": [
    "# 1)"
   ]
  },
  {
   "cell_type": "code",
   "execution_count": 305,
   "id": "4e317bd8",
   "metadata": {},
   "outputs": [],
   "source": [
    "def newtonn(a,eps):\n",
    "    x = 0\n",
    "    n = 0\n",
    "    dif = 2*eps\n",
    "    while dif > eps:\n",
    "        x1 = x - f(x)/fprime(x)\n",
    "        dif = abs(x1 - x)\n",
    "        x = x1\n",
    "        n = n+1\n",
    "    return (x, n)"
   ]
  },
  {
   "cell_type": "code",
   "execution_count": 338,
   "id": "667d9963",
   "metadata": {},
   "outputs": [
    {
     "data": {
      "image/png": "[encoded data removed]",
      "text/plain": [
       "<Figure size 432x288 with 1 Axes>"
      ]
     },
     "metadata": {
      "needs_background": "light"
     },
     "output_type": "display_data"
    }
   ],
   "source": [
    "import numpy as np\n",
    "import matplotlib.pyplot as plt\n",
    "f=lambda x: np.exp(-x)-x\n",
    "fprime=lambda x: -np.exp(-x)-1\n",
    "t= np.linspace(0,1,100)\n",
    "plt.plot(t,f(t),'r')\n",
    "plt.grid(True)"
   ]
  },
  {
   "cell_type": "code",
   "execution_count": 346,
   "id": "3a703d76",
   "metadata": {},
   "outputs": [
    {
     "data": {
      "text/plain": [
       "(0.5671431650348622, 3)"
      ]
     },
     "execution_count": 346,
     "metadata": {},
     "output_type": "execute_result"
    }
   ],
   "source": [
    "newtonn(0,0.001)"
   ]
  },
  {
   "cell_type": "markdown",
   "id": "db8151ed",
   "metadata": {},
   "source": [
    "# 2)"
   ]
  },
  {
   "cell_type": "code",
   "execution_count": 347,
   "id": "8f10455f",
   "metadata": {},
   "outputs": [
    {
     "data": {
      "text/plain": [
       "(0.5671431650348622, 3)"
      ]
     },
     "execution_count": 347,
     "metadata": {},
     "output_type": "execute_result"
    }
   ],
   "source": [
    "newtonn(1,0.001)"
   ]
  }
 ],
 "metadata": {
  "kernelspec": {
   "display_name": "Python 3",
   "language": "python",
   "name": "python3"
  },
  "language_info": {
   "codemirror_mode": {
    "name": "ipython",
    "version": 3
   },
   "file_extension": ".py",
   "mimetype": "text/x-python",
   "name": "python",
   "nbconvert_exporter": "python",
   "pygments_lexer": "ipython3",
   "version": "3.8.8"
  }
 },
 "nbformat": 4,
 "nbformat_minor": 5
}
